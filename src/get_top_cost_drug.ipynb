{
 "cells": [
  {
   "cell_type": "code",
   "execution_count": 1,
   "metadata": {
    "collapsed": true
   },
   "outputs": [],
   "source": [
    "input='../input/itcont.txt'"
   ]
  },
  {
   "cell_type": "code",
   "execution_count": 2,
   "metadata": {
    "collapsed": false
   },
   "outputs": [],
   "source": [
    "with open(input,'r') as input:\n",
    "    rawData=input.readlines()"
   ]
  },
  {
   "cell_type": "code",
   "execution_count": 3,
   "metadata": {
    "collapsed": false
   },
   "outputs": [
    {
     "data": {
      "text/plain": [
       "['id,prescriber_last_name,prescriber_first_name,drug_name,drug_cost\\n',\n",
       " '1000000001,Smith,James,AMBIEN,100\\n',\n",
       " '1000000002,Garcia,Maria,AMBIEN,200\\n',\n",
       " '1000000003,Johnson,James,CHLORPROMAZINE,1000\\n',\n",
       " '1000000004,Rodriguez,Maria,CHLORPROMAZINE,2000\\n',\n",
       " '1000000005,Smith,David,BENZTROPINE MESYLATE,1500']"
      ]
     },
     "execution_count": 3,
     "metadata": {},
     "output_type": "execute_result"
    }
   ],
   "source": [
    "rawData"
   ]
  },
  {
   "cell_type": "code",
   "execution_count": 4,
   "metadata": {
    "collapsed": false
   },
   "outputs": [
    {
     "name": "stdout",
     "output_type": "stream",
     "text": [
      "['1000000001', 'Smith', 'James', 'AMBIEN', '100']\n",
      "['1000000002', 'Garcia', 'Maria', 'AMBIEN', '200']\n",
      "['1000000003', 'Johnson', 'James', 'CHLORPROMAZINE', '1000']\n",
      "['1000000004', 'Rodriguez', 'Maria', 'CHLORPROMAZINE', '2000']\n",
      "['1000000005', 'Smith', 'David', 'BENZTROPINE MESYLATE', '1500']\n"
     ]
    }
   ],
   "source": [
    "drug_name=[]\n",
    "drug_cost=[]\n",
    "for i in range(1,len(rawData)):\n",
    "    line=rawData[i].replace('\\n','')\n",
    "    words=line.split(',')\n",
    "    print( words)\n",
    "    drug_name.append(words[3])\n",
    "    drug_cost.append(float(words[4]))"
   ]
  },
  {
   "cell_type": "code",
   "execution_count": 5,
   "metadata": {
    "collapsed": false
   },
   "outputs": [],
   "source": [
    "unique_name= list(set(drug_name))"
   ]
  },
  {
   "cell_type": "code",
   "execution_count": 6,
   "metadata": {
    "collapsed": false
   },
   "outputs": [
    {
     "data": {
      "text/plain": [
       "['AMBIEN', 'BENZTROPINE MESYLATE', 'CHLORPROMAZINE']"
      ]
     },
     "execution_count": 6,
     "metadata": {},
     "output_type": "execute_result"
    }
   ],
   "source": [
    "unique_name"
   ]
  },
  {
   "cell_type": "code",
   "execution_count": 7,
   "metadata": {
    "collapsed": false
   },
   "outputs": [
    {
     "name": "stdout",
     "output_type": "stream",
     "text": [
      "0 AMBIEN\n",
      "1 AMBIEN\n",
      "2 CHLORPROMAZINE\n",
      "3 CHLORPROMAZINE\n",
      "4 BENZTROPINE MESYLATE\n"
     ]
    }
   ],
   "source": [
    "drug_summary={}\n",
    "for i, name in enumerate(drug_name):\n",
    "    print (i,name)\n",
    "    if name in drug_summary.keys():\n",
    "        drug_summary[name][0]+=1\n",
    "        drug_summary[name][1]+=drug_cost[i]\n",
    "    else:\n",
    "        drug_summary[name]=[0,0]\n",
    "        drug_summary[name][0]=1\n",
    "        drug_summary[name][1]=drug_cost[i]\n",
    "        \n",
    "    "
   ]
  },
  {
   "cell_type": "code",
   "execution_count": 8,
   "metadata": {
    "collapsed": false
   },
   "outputs": [],
   "source": [
    "drug_summary_sorted=sorted(drug_summary.items(), key=lambda x: x[0])"
   ]
  },
  {
   "cell_type": "code",
   "execution_count": 9,
   "metadata": {
    "collapsed": false
   },
   "outputs": [],
   "source": [
    "#drug_summary_sorted=sorted(drug_summary_sorted.items(), key=lambda x: x[1][1],reverse=True)"
   ]
  },
  {
   "cell_type": "code",
   "execution_count": 10,
   "metadata": {
    "collapsed": false
   },
   "outputs": [],
   "source": [
    "drug_summary_sorted=sorted(drug_summary_sorted, key=lambda x: x[1][1],reverse=True)"
   ]
  },
  {
   "cell_type": "code",
   "execution_count": 11,
   "metadata": {
    "collapsed": false
   },
   "outputs": [
    {
     "data": {
      "text/plain": [
       "[('CHLORPROMAZINE', [2, 3000.0]),\n",
       " ('BENZTROPINE MESYLATE', [1, 1500.0]),\n",
       " ('AMBIEN', [2, 300.0])]"
      ]
     },
     "execution_count": 11,
     "metadata": {},
     "output_type": "execute_result"
    }
   ],
   "source": [
    "drug_summary_sorted"
   ]
  },
  {
   "cell_type": "code",
   "execution_count": 12,
   "metadata": {
    "collapsed": true
   },
   "outputs": [],
   "source": [
    "output='../output/top_cost_drug.txt'\n",
    "title_line='drug_name,num_prescriber,total_cost \\n'"
   ]
  },
  {
   "cell_type": "code",
   "execution_count": 13,
   "metadata": {
    "collapsed": false
   },
   "outputs": [
    {
     "name": "stdout",
     "output_type": "stream",
     "text": [
      "CHLORPROMAZINE,2,3000.0\n",
      "\n",
      "BENZTROPINE MESYLATE,1,1500.0\n",
      "\n",
      "AMBIEN,2,300.0\n",
      "\n"
     ]
    }
   ],
   "source": [
    "with open (output,'w+') as out:\n",
    "    out.write(title_line)\n",
    "    for item in drug_summary_sorted:\n",
    "        line= item[0]+','+ str(item[1][0])+','+ str(item[1][1])+'\\n'\n",
    "        out.write(line)\n",
    "        print (line)"
   ]
  },
  {
   "cell_type": "code",
   "execution_count": null,
   "metadata": {
    "collapsed": true
   },
   "outputs": [],
   "source": []
  }
 ],
 "metadata": {
  "kernelspec": {
   "display_name": "Python 3",
   "language": "python",
   "name": "python3"
  },
  "language_info": {
   "codemirror_mode": {
    "name": "ipython",
    "version": 3
   },
   "file_extension": ".py",
   "mimetype": "text/x-python",
   "name": "python",
   "nbconvert_exporter": "python",
   "pygments_lexer": "ipython3",
   "version": "3.6.0"
  }
 },
 "nbformat": 4,
 "nbformat_minor": 2
}
